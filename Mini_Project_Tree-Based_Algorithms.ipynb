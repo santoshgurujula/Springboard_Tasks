{
 "cells": [
  {
   "cell_type": "markdown",
   "metadata": {},
   "source": [
    "# Mini Project: Tree-Based Algorithms"
   ]
  },
  {
   "cell_type": "markdown",
   "metadata": {},
   "source": [
    "## The \"German Credit\" Dataset"
   ]
  },
  {
   "cell_type": "markdown",
   "metadata": {},
   "source": [
    "### Dataset Details"
   ]
  },
  {
   "cell_type": "markdown",
   "metadata": {},
   "source": [
    "This dataset has two classes (these would be considered labels in Machine Learning terms) to describe the worthiness of a personal loan: \"Good\" or \"Bad\". There are predictors related to attributes, such as: checking account status, duration, credit history, purpose of the loan, amount of the loan, savings accounts or bonds, employment duration, installment rate in percentage of disposable income, personal information, other debtors/guarantors, residence duration, property, age, other installment plans, housing, number of existing credits, job information, number of people being liable to provide maintenance for, telephone, and foreign worker status.\n",
    "\n",
    "Many of these predictors are discrete and have been expanded into several 0/1 indicator variables (a.k.a. they have been one-hot-encoded).\n",
    "\n",
    "This dataset has been kindly provided by Professor Dr. Hans Hofmann of the University of Hamburg, and can also be found on the UCI Machine Learning Repository."
   ]
  },
  {
   "cell_type": "markdown",
   "metadata": {},
   "source": [
    "\n",
    "\n",
    "\n"
   ]
  },
  {
   "cell_type": "markdown",
   "metadata": {},
   "source": [
    "## Decision Trees"
   ]
  },
  {
   "cell_type": "markdown",
   "metadata": {},
   "source": [
    " As we have learned in the previous lectures, Decision Trees as a family of algorithms (irrespective to the particular implementation) are powerful algorithms that can produce models with a predictive accuracy higher than that produced by linear models, such as Linear or Logistic Regression. Primarily, this is due to the fact the DT's can model nonlinear relationships, and also have a number of tuning paramters, that allow for the practicioner to achieve the best possible model. An added bonus is the ability to visualize the trained Decision Tree model, which allows for some insight into how the model has produced the predictions that it has. One caveat here, to keep in mind, is that sometimes, due to the size of the dataset (both in the sense of the number of records, as well as the number of features), the visualization might prove to be very large and complex, increasing the difficulty of interpretation."
   ]
  },
  {
   "cell_type": "markdown",
   "metadata": {},
   "source": [
    "To give you a very good example of how Decision Trees can be visualized and interpreted, we would strongly recommend that, before continuing on with solving the problems in this Mini Project, you take the time to read this fanstastic, detailed and informative blog post: http://explained.ai/decision-tree-viz/index.html"
   ]
  },
  {
   "cell_type": "markdown",
   "metadata": {},
   "source": [
    "## Building Your First Decision Tree Model"
   ]
  },
  {
   "cell_type": "markdown",
   "metadata": {},
   "source": [
    "So, now it's time to jump straight into the heart of the matter. Your first task, is to build a Decision Tree model, using the aforementioned \"German Credit\" dataset, which contains 1,000 records, and 62 columns (one of them presents the labels, and the other 61 present the potential features for the model.)"
   ]
  },
  {
   "cell_type": "markdown",
   "metadata": {},
   "source": [
    "For this task, you will be using the scikit-learn library, which comes already pre-installed with the Anaconda Python distribution. In case you're not using that, you can easily install it using pip."
   ]
  },
  {
   "cell_type": "markdown",
   "metadata": {},
   "source": [
    "Before embarking on creating your first model, we would strongly encourage you to read the short tutorial for Decision Trees in scikit-learn (http://scikit-learn.org/stable/modules/tree.html), and then dive a bit deeper into the documentation of the algorithm itself (http://scikit-learn.org/stable/modules/generated/sklearn.tree.DecisionTreeClassifier.html). "
   ]
  },
  {
   "cell_type": "markdown",
   "metadata": {},
   "source": [
    "Also, since you want to be able to present the results of your model, we suggest you take a look at the tutorial for accuracy metrics for classification models (http://scikit-learn.org/stable/modules/model_evaluation.html#classification-report) as well as the more detailed documentation (http://scikit-learn.org/stable/modules/generated/sklearn.metrics.classification_report.html).\n",
    "\n",
    "Finally, an *amazing* resource that explains the various classification model accuracy metrics, as well as the relationships between them, can be found on Wikipedia: https://en.wikipedia.org/wiki/Confusion_matrix"
   ]
  },
  {
   "cell_type": "markdown",
   "metadata": {},
   "source": [
    "(Note: as you've already learned in the Logistic Regression mini project, a standard practice in Machine Learning for achieving the best possible result when training a model is to use hyperparameter tuning, through Grid Search and k-fold Cross Validation. We strongly encourage you to use it here as well, not just because it's standard practice, but also becuase it's not going to be computationally to intensive, due to the size of the dataset that you're working with. Our suggestion here is that you split the data into 70% training, and 30% testing. Then, do the hyperparameter tuning and Cross Validation on the training set, and afterwards to a final test on the testing set.)"
   ]
  },
  {
   "cell_type": "markdown",
   "metadata": {},
   "source": [
    "### Now we pass the torch onto you! You can start building your first Decision Tree model! :)"
   ]
  },
  {
   "cell_type": "code",
   "execution_count": 1,
   "metadata": {
    "collapsed": true
   },
   "outputs": [],
   "source": [
    "import pandas as pd\n",
    "from sklearn.tree import DecisionTreeClassifier\n",
    "from sklearn.metrics import classification_report\n",
    "from sklearn.model_selection import train_test_split\n",
    "from sklearn.model_selection import GridSearchCV"
   ]
  },
  {
   "cell_type": "code",
   "execution_count": 2,
   "metadata": {},
   "outputs": [
    {
     "data": {
      "text/html": [
       "<div>\n",
       "<style>\n",
       "    .dataframe thead tr:only-child th {\n",
       "        text-align: right;\n",
       "    }\n",
       "\n",
       "    .dataframe thead th {\n",
       "        text-align: left;\n",
       "    }\n",
       "\n",
       "    .dataframe tbody tr th {\n",
       "        vertical-align: top;\n",
       "    }\n",
       "</style>\n",
       "<table border=\"1\" class=\"dataframe\">\n",
       "  <thead>\n",
       "    <tr style=\"text-align: right;\">\n",
       "      <th></th>\n",
       "      <th>Duration</th>\n",
       "      <th>Amount</th>\n",
       "      <th>InstallmentRatePercentage</th>\n",
       "      <th>ResidenceDuration</th>\n",
       "      <th>Age</th>\n",
       "      <th>NumberExistingCredits</th>\n",
       "      <th>NumberPeopleMaintenance</th>\n",
       "      <th>Telephone</th>\n",
       "      <th>ForeignWorker</th>\n",
       "      <th>Class</th>\n",
       "      <th>...</th>\n",
       "      <th>OtherInstallmentPlans.Bank</th>\n",
       "      <th>OtherInstallmentPlans.Stores</th>\n",
       "      <th>OtherInstallmentPlans.None</th>\n",
       "      <th>Housing.Rent</th>\n",
       "      <th>Housing.Own</th>\n",
       "      <th>Housing.ForFree</th>\n",
       "      <th>Job.UnemployedUnskilled</th>\n",
       "      <th>Job.UnskilledResident</th>\n",
       "      <th>Job.SkilledEmployee</th>\n",
       "      <th>Job.Management.SelfEmp.HighlyQualified</th>\n",
       "    </tr>\n",
       "  </thead>\n",
       "  <tbody>\n",
       "    <tr>\n",
       "      <th>0</th>\n",
       "      <td>6</td>\n",
       "      <td>1169</td>\n",
       "      <td>4</td>\n",
       "      <td>4</td>\n",
       "      <td>67</td>\n",
       "      <td>2</td>\n",
       "      <td>1</td>\n",
       "      <td>0</td>\n",
       "      <td>1</td>\n",
       "      <td>Good</td>\n",
       "      <td>...</td>\n",
       "      <td>0</td>\n",
       "      <td>0</td>\n",
       "      <td>1</td>\n",
       "      <td>0</td>\n",
       "      <td>1</td>\n",
       "      <td>0</td>\n",
       "      <td>0</td>\n",
       "      <td>0</td>\n",
       "      <td>1</td>\n",
       "      <td>0</td>\n",
       "    </tr>\n",
       "    <tr>\n",
       "      <th>1</th>\n",
       "      <td>48</td>\n",
       "      <td>5951</td>\n",
       "      <td>2</td>\n",
       "      <td>2</td>\n",
       "      <td>22</td>\n",
       "      <td>1</td>\n",
       "      <td>1</td>\n",
       "      <td>1</td>\n",
       "      <td>1</td>\n",
       "      <td>Bad</td>\n",
       "      <td>...</td>\n",
       "      <td>0</td>\n",
       "      <td>0</td>\n",
       "      <td>1</td>\n",
       "      <td>0</td>\n",
       "      <td>1</td>\n",
       "      <td>0</td>\n",
       "      <td>0</td>\n",
       "      <td>0</td>\n",
       "      <td>1</td>\n",
       "      <td>0</td>\n",
       "    </tr>\n",
       "    <tr>\n",
       "      <th>2</th>\n",
       "      <td>12</td>\n",
       "      <td>2096</td>\n",
       "      <td>2</td>\n",
       "      <td>3</td>\n",
       "      <td>49</td>\n",
       "      <td>1</td>\n",
       "      <td>2</td>\n",
       "      <td>1</td>\n",
       "      <td>1</td>\n",
       "      <td>Good</td>\n",
       "      <td>...</td>\n",
       "      <td>0</td>\n",
       "      <td>0</td>\n",
       "      <td>1</td>\n",
       "      <td>0</td>\n",
       "      <td>1</td>\n",
       "      <td>0</td>\n",
       "      <td>0</td>\n",
       "      <td>1</td>\n",
       "      <td>0</td>\n",
       "      <td>0</td>\n",
       "    </tr>\n",
       "    <tr>\n",
       "      <th>3</th>\n",
       "      <td>42</td>\n",
       "      <td>7882</td>\n",
       "      <td>2</td>\n",
       "      <td>4</td>\n",
       "      <td>45</td>\n",
       "      <td>1</td>\n",
       "      <td>2</td>\n",
       "      <td>1</td>\n",
       "      <td>1</td>\n",
       "      <td>Good</td>\n",
       "      <td>...</td>\n",
       "      <td>0</td>\n",
       "      <td>0</td>\n",
       "      <td>1</td>\n",
       "      <td>0</td>\n",
       "      <td>0</td>\n",
       "      <td>1</td>\n",
       "      <td>0</td>\n",
       "      <td>0</td>\n",
       "      <td>1</td>\n",
       "      <td>0</td>\n",
       "    </tr>\n",
       "    <tr>\n",
       "      <th>4</th>\n",
       "      <td>24</td>\n",
       "      <td>4870</td>\n",
       "      <td>3</td>\n",
       "      <td>4</td>\n",
       "      <td>53</td>\n",
       "      <td>2</td>\n",
       "      <td>2</td>\n",
       "      <td>1</td>\n",
       "      <td>1</td>\n",
       "      <td>Bad</td>\n",
       "      <td>...</td>\n",
       "      <td>0</td>\n",
       "      <td>0</td>\n",
       "      <td>1</td>\n",
       "      <td>0</td>\n",
       "      <td>0</td>\n",
       "      <td>1</td>\n",
       "      <td>0</td>\n",
       "      <td>0</td>\n",
       "      <td>1</td>\n",
       "      <td>0</td>\n",
       "    </tr>\n",
       "  </tbody>\n",
       "</table>\n",
       "<p>5 rows × 62 columns</p>\n",
       "</div>"
      ],
      "text/plain": [
       "   Duration  Amount  InstallmentRatePercentage  ResidenceDuration  Age  \\\n",
       "0         6    1169                          4                  4   67   \n",
       "1        48    5951                          2                  2   22   \n",
       "2        12    2096                          2                  3   49   \n",
       "3        42    7882                          2                  4   45   \n",
       "4        24    4870                          3                  4   53   \n",
       "\n",
       "   NumberExistingCredits  NumberPeopleMaintenance  Telephone  ForeignWorker  \\\n",
       "0                      2                        1          0              1   \n",
       "1                      1                        1          1              1   \n",
       "2                      1                        2          1              1   \n",
       "3                      1                        2          1              1   \n",
       "4                      2                        2          1              1   \n",
       "\n",
       "  Class                   ...                    OtherInstallmentPlans.Bank  \\\n",
       "0  Good                   ...                                             0   \n",
       "1   Bad                   ...                                             0   \n",
       "2  Good                   ...                                             0   \n",
       "3  Good                   ...                                             0   \n",
       "4   Bad                   ...                                             0   \n",
       "\n",
       "   OtherInstallmentPlans.Stores  OtherInstallmentPlans.None  Housing.Rent  \\\n",
       "0                             0                           1             0   \n",
       "1                             0                           1             0   \n",
       "2                             0                           1             0   \n",
       "3                             0                           1             0   \n",
       "4                             0                           1             0   \n",
       "\n",
       "   Housing.Own  Housing.ForFree  Job.UnemployedUnskilled  \\\n",
       "0            1                0                        0   \n",
       "1            1                0                        0   \n",
       "2            1                0                        0   \n",
       "3            0                1                        0   \n",
       "4            0                1                        0   \n",
       "\n",
       "   Job.UnskilledResident  Job.SkilledEmployee  \\\n",
       "0                      0                    1   \n",
       "1                      0                    1   \n",
       "2                      1                    0   \n",
       "3                      0                    1   \n",
       "4                      0                    1   \n",
       "\n",
       "   Job.Management.SelfEmp.HighlyQualified  \n",
       "0                                       0  \n",
       "1                                       0  \n",
       "2                                       0  \n",
       "3                                       0  \n",
       "4                                       0  \n",
       "\n",
       "[5 rows x 62 columns]"
      ]
     },
     "execution_count": 2,
     "metadata": {},
     "output_type": "execute_result"
    }
   ],
   "source": [
    "# Your code here! :)\n",
    "#Read data\n",
    "credit_data_df = pd.read_csv(\"GermanCredit.csv\")\n",
    "credit_data_df.head()\n"
   ]
  },
  {
   "cell_type": "code",
   "execution_count": 3,
   "metadata": {},
   "outputs": [
    {
     "data": {
      "text/plain": [
       "Index(['Duration', 'Amount', 'InstallmentRatePercentage', 'ResidenceDuration',\n",
       "       'Age', 'NumberExistingCredits', 'NumberPeopleMaintenance', 'Telephone',\n",
       "       'ForeignWorker', 'Class', 'CheckingAccountStatus.lt.0',\n",
       "       'CheckingAccountStatus.0.to.200', 'CheckingAccountStatus.gt.200',\n",
       "       'CheckingAccountStatus.none', 'CreditHistory.NoCredit.AllPaid',\n",
       "       'CreditHistory.ThisBank.AllPaid', 'CreditHistory.PaidDuly',\n",
       "       'CreditHistory.Delay', 'CreditHistory.Critical', 'Purpose.NewCar',\n",
       "       'Purpose.UsedCar', 'Purpose.Furniture.Equipment',\n",
       "       'Purpose.Radio.Television', 'Purpose.DomesticAppliance',\n",
       "       'Purpose.Repairs', 'Purpose.Education', 'Purpose.Vacation',\n",
       "       'Purpose.Retraining', 'Purpose.Business', 'Purpose.Other',\n",
       "       'SavingsAccountBonds.lt.100', 'SavingsAccountBonds.100.to.500',\n",
       "       'SavingsAccountBonds.500.to.1000', 'SavingsAccountBonds.gt.1000',\n",
       "       'SavingsAccountBonds.Unknown', 'EmploymentDuration.lt.1',\n",
       "       'EmploymentDuration.1.to.4', 'EmploymentDuration.4.to.7',\n",
       "       'EmploymentDuration.gt.7', 'EmploymentDuration.Unemployed',\n",
       "       'Personal.Male.Divorced.Seperated', 'Personal.Female.NotSingle',\n",
       "       'Personal.Male.Single', 'Personal.Male.Married.Widowed',\n",
       "       'Personal.Female.Single', 'OtherDebtorsGuarantors.None',\n",
       "       'OtherDebtorsGuarantors.CoApplicant',\n",
       "       'OtherDebtorsGuarantors.Guarantor', 'Property.RealEstate',\n",
       "       'Property.Insurance', 'Property.CarOther', 'Property.Unknown',\n",
       "       'OtherInstallmentPlans.Bank', 'OtherInstallmentPlans.Stores',\n",
       "       'OtherInstallmentPlans.None', 'Housing.Rent', 'Housing.Own',\n",
       "       'Housing.ForFree', 'Job.UnemployedUnskilled', 'Job.UnskilledResident',\n",
       "       'Job.SkilledEmployee', 'Job.Management.SelfEmp.HighlyQualified'],\n",
       "      dtype='object')"
      ]
     },
     "execution_count": 3,
     "metadata": {},
     "output_type": "execute_result"
    }
   ],
   "source": [
    "credit_data_df.columns"
   ]
  },
  {
   "cell_type": "code",
   "execution_count": 3,
   "metadata": {
    "collapsed": true
   },
   "outputs": [],
   "source": [
    "#We need to predict class\n",
    "y=credit_data_df.Class"
   ]
  },
  {
   "cell_type": "code",
   "execution_count": 4,
   "metadata": {
    "collapsed": true
   },
   "outputs": [],
   "source": [
    "#Drop target value from df\n",
    "X=credit_data_df.drop('Class',axis=1)"
   ]
  },
  {
   "cell_type": "code",
   "execution_count": 5,
   "metadata": {},
   "outputs": [
    {
     "data": {
      "text/plain": [
       "DecisionTreeClassifier(class_weight=None, criterion='gini', max_depth=None,\n",
       "            max_features=None, max_leaf_nodes=None,\n",
       "            min_impurity_decrease=0.0, min_impurity_split=None,\n",
       "            min_samples_leaf=1, min_samples_split=2,\n",
       "            min_weight_fraction_leaf=0.0, presort=False, random_state=0,\n",
       "            splitter='best')"
      ]
     },
     "execution_count": 5,
     "metadata": {},
     "output_type": "execute_result"
    }
   ],
   "source": [
    "#Build model\n",
    "clrf=DecisionTreeClassifier(random_state=0)\n",
    "clrf.fit(X,y)"
   ]
  },
  {
   "cell_type": "markdown",
   "metadata": {},
   "source": [
    "### After you've built the best model you can, now it's time to visualize it!"
   ]
  },
  {
   "cell_type": "markdown",
   "metadata": {},
   "source": [
    "Rememeber that amazing blog post from a few paragraphs ago, that demonstrated how to visualize and interpret the results of your Decision Tree model. We've seen that this can perform very well, but let's see how it does on the \"German Credit\" dataset that we're working on, due to it being a bit larger than the one used by the blog authors."
   ]
  },
  {
   "cell_type": "markdown",
   "metadata": {},
   "source": [
    "First, we're going to need to install their package. If you're using Anaconda, this can be done easily by running:"
   ]
  },
  {
   "cell_type": "code",
   "execution_count": 6,
   "metadata": {},
   "outputs": [
    {
     "name": "stdout",
     "output_type": "stream",
     "text": [
      "Collecting dtreeviz\n",
      "  Downloading https://files.pythonhosted.org/packages/53/d8/15e5760cfef9ebf384c4ce7646db2c7695a6c2b4be0bf6893217574b2f27/dtreeviz-0.8.2.tar.gz\n",
      "Collecting graphviz>=0.9 (from dtreeviz)\n",
      "  Downloading https://files.pythonhosted.org/packages/f5/74/dbed754c0abd63768d3a7a7b472da35b08ac442cf87d73d5850a6f32391e/graphviz-0.13.2-py2.py3-none-any.whl\n",
      "Requirement already satisfied: pandas in /usr/local/anaconda/lib/python3.6/site-packages (from dtreeviz) (0.20.3)\n",
      "Requirement already satisfied: numpy in /usr/local/anaconda/lib/python3.6/site-packages (from dtreeviz) (1.13.3)\n",
      "Requirement already satisfied: scikit-learn in /usr/local/anaconda/lib/python3.6/site-packages (from dtreeviz) (0.19.1)\n",
      "Requirement already satisfied: matplotlib in /usr/local/anaconda/lib/python3.6/site-packages (from dtreeviz) (2.2.2)\n",
      "Collecting colour (from dtreeviz)\n",
      "  Downloading https://files.pythonhosted.org/packages/74/46/e81907704ab203206769dee1385dc77e1407576ff8f50a0681d0a6b541be/colour-0.1.5-py2.py3-none-any.whl\n",
      "Requirement already satisfied: python-dateutil>=2 in /usr/local/anaconda/lib/python3.6/site-packages (from pandas->dtreeviz) (2.7.3)\n",
      "Requirement already satisfied: pytz>=2011k in /usr/local/anaconda/lib/python3.6/site-packages (from pandas->dtreeviz) (2018.4)\n",
      "Requirement already satisfied: cycler>=0.10 in /usr/local/anaconda/lib/python3.6/site-packages (from matplotlib->dtreeviz) (0.10.0)\n",
      "Requirement already satisfied: kiwisolver>=1.0.1 in /usr/local/anaconda/lib/python3.6/site-packages (from matplotlib->dtreeviz) (1.0.1)\n",
      "Requirement already satisfied: six>=1.10 in /usr/local/anaconda/lib/python3.6/site-packages (from matplotlib->dtreeviz) (1.11.0)\n",
      "Requirement already satisfied: pyparsing!=2.0.4,!=2.1.2,!=2.1.6,>=2.0.1 in /usr/local/anaconda/lib/python3.6/site-packages (from matplotlib->dtreeviz) (2.2.0)\n",
      "Requirement already satisfied: setuptools in /usr/local/anaconda/lib/python3.6/site-packages (from kiwisolver>=1.0.1->matplotlib->dtreeviz) (39.2.0)\n",
      "Building wheels for collected packages: dtreeviz\n",
      "  Running setup.py bdist_wheel for dtreeviz ... \u001b[?25ldone\n",
      "\u001b[?25h  Stored in directory: /home/ubuntu/.cache/pip/wheels/a2/da/b1/3178bb2b10647b5a6340c1979987e3b0c3b993cb674b0a3dcc\n",
      "Successfully built dtreeviz\n",
      "\u001b[31mpyspark 2.4.0 requires py4j==0.10.7, which is not installed.\u001b[0m\n",
      "\u001b[31mmxnet-cu80 1.2.0 has requirement graphviz<0.9.0,>=0.8.1, but you'll have graphviz 0.13.2 which is incompatible.\u001b[0m\n",
      "Installing collected packages: graphviz, colour, dtreeviz\n",
      "Successfully installed colour-0.1.5 dtreeviz-0.8.2 graphviz-0.13.2\n",
      "\u001b[33mYou are using pip version 10.0.1, however version 20.0.2 is available.\n",
      "You should consider upgrading via the 'pip install --upgrade pip' command.\u001b[0m\n",
      "Requirement already satisfied: graphviz in /home/ubuntu/.local/lib/python3.6/site-packages (0.13.2)\n",
      "\u001b[31mpyspark 2.4.0 requires py4j==0.10.7, which is not installed.\u001b[0m\n",
      "\u001b[31mmxnet-cu80 1.2.0 has requirement graphviz<0.9.0,>=0.8.1, but you'll have graphviz 0.13.2 which is incompatible.\u001b[0m\n",
      "\u001b[33mYou are using pip version 10.0.1, however version 20.0.2 is available.\n",
      "You should consider upgrading via the 'pip install --upgrade pip' command.\u001b[0m\n",
      "Reading package lists... Done\n",
      "Building dependency tree       \n",
      "Reading state information... Done\n",
      "Calculating upgrade... Done\n",
      "The following packages were automatically installed and are no longer required:\n",
      "  libarmadillo4 libarpack2 libcf0 libdap-dev libdap11 libdapclient3\n",
      "  libdapserver7 libepsilon1 libfreexl1 libgeos-3.4.2 libgeos-c1 libgeos-dev\n",
      "  libgif-dev libgif4 libhdf4-0-alt libhdf4-alt-dev libkml0 libltdl-dev\n",
      "  libmariadbclient18 libnetcdf-dev libnetcdfc++4 libnetcdfc7 libnetcdff5\n",
      "  libogdi3.2 libpoppler44 libpq-dev libspatialite-dev libspatialite5\n",
      "  libsqlite3-dev libtool liburiparser1 libwebp-dev libwebp5 libwebpdemux1\n",
      "  libwebpmux1 libxerces-c-dev libxerces-c3.1 mariadb-common odbcinst\n",
      "  odbcinst1debian2 proj-bin uuid-dev\n",
      "Use 'apt-get autoremove' to remove them.\n",
      "0 upgraded, 0 newly installed, 0 to remove and 0 not upgraded.\n",
      "Ign https://developer.download.nvidia.com  InRelease\n",
      "Ign http://cran.rstudio.com trusty/ InRelease                                  \n",
      "Get:1 http://cran.rstudio.com trusty/ Release.gpg [488 B]                      \n",
      "Get:2 http://security.ubuntu.com trusty-security InRelease [65.9 kB]           \n",
      "Ign https://developer.download.nvidia.com  Release.gpg                         \n",
      "Ign http://developer.download.nvidia.com  InRelease                            \n",
      "Get:3 http://developer.download.nvidia.com  Release.gpg [833 B]                \n",
      "Get:4 http://developer.download.nvidia.com  Release [564 B]                    \n",
      "Ign https://developer.download.nvidia.com  Release                             \n",
      "Get:5 http://cran.rstudio.com trusty/ Release [3,068 B]                        \n",
      "Get:6 http://developer.download.nvidia.com  Packages [83.5 kB]                 \n",
      "Get:7 http://cran.rstudio.com trusty/ Packages [190 kB]                        \n",
      "Err https://developer.download.nvidia.com  Packages                            \n",
      "  \n",
      "Get:8 http://ppa.launchpad.net trusty InRelease [15.5 kB]                      \n",
      "Get:9 http://security.ubuntu.com trusty-security/universe Sources [126 kB]     \n",
      "Ign http://archive.ubuntu.com trusty InRelease                                 \n",
      "Get:10 http://apt.postgresql.org precise-pgdg InRelease [41.0 kB]              \n",
      "Err https://developer.download.nvidia.com  Packages                            \n",
      "  \n",
      "Err https://developer.download.nvidia.com  Packages                            \n",
      "  \n",
      "Get:11 http://security.ubuntu.com trusty-security/main amd64 Packages [1,032 kB]\n",
      "Get:12 http://archive.ubuntu.com trusty-updates InRelease [65.9 kB]            \n",
      "Err https://developer.download.nvidia.com  Packages                            \n",
      "  \n",
      "Err https://developer.download.nvidia.com  Packages                            \n",
      "  gnutls_handshake() failed: Handshake failed\n",
      "Get:13 http://ppa.launchpad.net trusty/main amd64 Packages [20 B]              \n",
      "Get:14 http://security.ubuntu.com trusty-security/restricted amd64 Packages [18.1 kB]\n",
      "Get:15 http://security.ubuntu.com trusty-security/universe amd64 Packages [377 kB]\n",
      "Get:16 http://apt.postgresql.org precise-pgdg/main amd64 Packages [141 kB]     \n",
      "Get:17 http://security.ubuntu.com trusty-security/multiverse amd64 Packages [4,730 B]\n",
      "Get:18 https://dl.bintray.com  InRelease                                       \n",
      "Ign https://dl.bintray.com  InRelease                                          \n",
      "Get:19 https://dl.bintray.com  Release.gpg                                     \n",
      "Get:20 http://archive.ubuntu.com trusty-backports InRelease [65.9 kB]\n",
      "Get:21 https://dl.bintray.com  Release                \n",
      "Get:22 http://archive.ubuntu.com trusty Release.gpg [933 B]\n",
      "Get:23 https://dl.bintray.com  Packages\n",
      "Get:24 http://archive.ubuntu.com trusty-updates/universe Sources [288 kB]\n",
      "Get:25 http://archive.ubuntu.com trusty-updates/main amd64 Packages [1,460 kB]\n",
      "Get:26 http://archive.ubuntu.com trusty-updates/restricted amd64 Packages [21.4 kB]\n",
      "Get:27 http://archive.ubuntu.com trusty-updates/universe amd64 Packages [671 kB]\n",
      "Get:28 http://archive.ubuntu.com trusty-updates/multiverse amd64 Packages [16.1 kB]\n",
      "Get:29 http://archive.ubuntu.com trusty-backports/main amd64 Packages [14.7 kB]\n",
      "Get:30 http://archive.ubuntu.com trusty-backports/restricted amd64 Packages [40 B]\n",
      "Get:31 http://archive.ubuntu.com trusty-backports/universe amd64 Packages [52.5 kB]\n",
      "Get:32 http://archive.ubuntu.com trusty-backports/multiverse amd64 Packages [1,392 B]\n",
      "Get:33 http://archive.ubuntu.com trusty Release [58.5 kB]\n",
      "Get:34 http://archive.ubuntu.com trusty/universe Sources [7,926 kB]\n",
      "Get:35 http://archive.ubuntu.com trusty/main amd64 Packages [1,743 kB]\n",
      "Get:36 http://archive.ubuntu.com trusty/restricted amd64 Packages [16.0 kB]\n",
      "Get:37 http://archive.ubuntu.com trusty/universe amd64 Packages [7,589 kB]\n",
      "Get:38 http://archive.ubuntu.com trusty/multiverse amd64 Packages [169 kB]\n",
      "Fetched 22.3 MB in 4s (5,319 kB/s)                         \n",
      "W: Failed to fetch https://developer.download.nvidia.com/compute/cuda/repos/ubuntu1404/x86_64/Packages  gnutls_handshake() failed: Handshake failed\n",
      "\n",
      "E: Some index files failed to download. They have been ignored, or old ones used instead.\n"
     ]
    },
    {
     "name": "stdout",
     "output_type": "stream",
     "text": [
      "Reading package lists... Done\n",
      "Building dependency tree       \n",
      "Reading state information... Done\n",
      "build-essential is already the newest version.\n",
      "The following packages were automatically installed and are no longer required:\n",
      "  libarmadillo4 libarpack2 libcf0 libdap-dev libdap11 libdapclient3\n",
      "  libdapserver7 libepsilon1 libfreexl1 libgeos-3.4.2 libgeos-c1 libgeos-dev\n",
      "  libgif-dev libgif4 libhdf4-0-alt libhdf4-alt-dev libkml0 libltdl-dev\n",
      "  libmariadbclient18 libnetcdf-dev libnetcdfc++4 libnetcdfc7 libnetcdff5\n",
      "  libogdi3.2 libpoppler44 libpq-dev libspatialite-dev libspatialite5\n",
      "  libsqlite3-dev libtool liburiparser1 libwebp-dev libwebp5 libwebpdemux1\n",
      "  libwebpmux1 libxerces-c-dev libxerces-c3.1 mariadb-common odbcinst\n",
      "  odbcinst1debian2 proj-bin uuid-dev\n",
      "Use 'apt-get autoremove' to remove them.\n",
      "0 upgraded, 0 newly installed, 0 to remove and 211 not upgraded.\n",
      "Reading package lists... Done\n",
      "Building dependency tree       \n",
      "Reading state information... Done\n",
      "The following packages were automatically installed and are no longer required:\n",
      "  libarmadillo4 libarpack2 libcf0 libdap-dev libdap11 libdapclient3\n",
      "  libdapserver7 libepsilon1 libfreexl1 libgeos-3.4.2 libgeos-c1 libgeos-dev\n",
      "  libgif-dev libgif4 libhdf4-0-alt libhdf4-alt-dev libkml0 libltdl-dev\n",
      "  libmariadbclient18 libnetcdf-dev libnetcdfc++4 libnetcdfc7 libnetcdff5\n",
      "  libogdi3.2 libpoppler44 libpq-dev libspatialite-dev libspatialite5\n",
      "  libsqlite3-dev libtool liburiparser1 libwebp-dev libwebp5 libwebpdemux1\n",
      "  libwebpmux1 libxerces-c-dev libxerces-c3.1 mariadb-common odbcinst\n",
      "  odbcinst1debian2 proj-bin uuid-dev\n",
      "Use 'apt-get autoremove' to remove them.\n",
      "The following extra packages will be installed:\n",
      "  fonts-liberation libcdt5 libcgraph6 libgd3 libgvc6 libgvpr2 libpathplan4\n",
      "Suggested packages:\n",
      "  graphviz-doc libgd-tools\n",
      "The following NEW packages will be installed:\n",
      "  fonts-liberation graphviz libcdt5 libcgraph6 libgd3 libgvc6 libgvpr2\n",
      "  libpathplan4\n",
      "0 upgraded, 8 newly installed, 0 to remove and 211 not upgraded.\n",
      "Need to get 2,744 kB of archives.\n",
      "After this operation, 7,242 kB of additional disk space will be used.\n",
      "Get:1 http://archive.ubuntu.com/ubuntu/ trusty-updates/main libgd3 amd64 2.1.0-3ubuntu0.11 [123 kB]\n",
      "Get:2 http://archive.ubuntu.com/ubuntu/ trusty/main fonts-liberation all 1.07.3-3 [1,320 kB]\n",
      "Get:3 http://archive.ubuntu.com/ubuntu/ trusty-updates/main libcdt5 amd64 2.36.0-0ubuntu3.2 [23.3 kB]\n",
      "Get:4 http://archive.ubuntu.com/ubuntu/ trusty-updates/main libcgraph6 amd64 2.36.0-0ubuntu3.2 [44.1 kB]\n",
      "Get:5 http://archive.ubuntu.com/ubuntu/ trusty-updates/main libpathplan4 amd64 2.36.0-0ubuntu3.2 [26.3 kB]\n",
      "Get:6 http://archive.ubuntu.com/ubuntu/ trusty-updates/main libgvc6 amd64 2.36.0-0ubuntu3.2 [578 kB]\n",
      "Get:7 http://archive.ubuntu.com/ubuntu/ trusty-updates/main libgvpr2 amd64 2.36.0-0ubuntu3.2 [169 kB]\n",
      "Get:8 http://archive.ubuntu.com/ubuntu/ trusty-updates/main graphviz amd64 2.36.0-0ubuntu3.2 [461 kB]\n",
      "Fetched 2,744 kB in 1s (1,751 kB/s)\n",
      "Selecting previously unselected package libgd3:amd64.\n",
      "(Reading database ... 58772 files and directories currently installed.)\n",
      "Preparing to unpack .../libgd3_2.1.0-3ubuntu0.11_amd64.deb ...\n",
      "Unpacking libgd3:amd64 (2.1.0-3ubuntu0.11) ...\n",
      "Selecting previously unselected package fonts-liberation.\n",
      "Preparing to unpack .../fonts-liberation_1.07.3-3_all.deb ...\n",
      "Unpacking fonts-liberation (1.07.3-3) ...\n",
      "Selecting previously unselected package libcdt5.\n",
      "Preparing to unpack .../libcdt5_2.36.0-0ubuntu3.2_amd64.deb ...\n",
      "Unpacking libcdt5 (2.36.0-0ubuntu3.2) ...\n",
      "Selecting previously unselected package libcgraph6.\n",
      "Preparing to unpack .../libcgraph6_2.36.0-0ubuntu3.2_amd64.deb ...\n",
      "Unpacking libcgraph6 (2.36.0-0ubuntu3.2) ...\n",
      "Selecting previously unselected package libpathplan4.\n",
      "Preparing to unpack .../libpathplan4_2.36.0-0ubuntu3.2_amd64.deb ...\n",
      "Unpacking libpathplan4 (2.36.0-0ubuntu3.2) ...\n",
      "Selecting previously unselected package libgvc6.\n",
      "Preparing to unpack .../libgvc6_2.36.0-0ubuntu3.2_amd64.deb ...\n",
      "Unpacking libgvc6 (2.36.0-0ubuntu3.2) ...\n",
      "Selecting previously unselected package libgvpr2.\n",
      "Preparing to unpack .../libgvpr2_2.36.0-0ubuntu3.2_amd64.deb ...\n",
      "Unpacking libgvpr2 (2.36.0-0ubuntu3.2) ...\n",
      "Selecting previously unselected package graphviz.\n",
      "Preparing to unpack .../graphviz_2.36.0-0ubuntu3.2_amd64.deb ...\n",
      "Unpacking graphviz (2.36.0-0ubuntu3.2) ...\n",
      "Processing triggers for fontconfig (2.11.0-0ubuntu4.2) ...\n",
      "Processing triggers for man-db (2.6.7.1-1ubuntu1) ...\n",
      "Setting up libgd3:amd64 (2.1.0-3ubuntu0.11) ...\n",
      "Setting up fonts-liberation (1.07.3-3) ...\n",
      "Setting up libcdt5 (2.36.0-0ubuntu3.2) ...\n",
      "Setting up libcgraph6 (2.36.0-0ubuntu3.2) ...\n",
      "Setting up libpathplan4 (2.36.0-0ubuntu3.2) ...\n",
      "Setting up libgvc6 (2.36.0-0ubuntu3.2) ...\n",
      "Setting up libgvpr2 (2.36.0-0ubuntu3.2) ...\n",
      "Setting up graphviz (2.36.0-0ubuntu3.2) ...\n",
      "Processing triggers for libc-bin (2.19-0ubuntu6.14) ...\n"
     ]
    }
   ],
   "source": [
    "! pip install dtreeviz --user\n",
    "! pip install graphviz --user\n",
    "! sudo apt-get dist-upgrade\n",
    "! sudo apt-get update\n",
    "! sudo apt-get install build-essential\n",
    "! sudo apt-get install -y graphviz"
   ]
  },
  {
   "cell_type": "code",
   "execution_count": 7,
   "metadata": {},
   "outputs": [
    {
     "name": "stdout",
     "output_type": "stream",
     "text": [
      "Requirement already satisfied: dtreeviz in /home/ubuntu/.local/lib/python3.6/site-packages (0.8.2)\n",
      "Requirement already satisfied: colour in /home/ubuntu/.local/lib/python3.6/site-packages (from dtreeviz) (0.1.5)\n",
      "Requirement already satisfied: scikit-learn in /usr/local/anaconda/lib/python3.6/site-packages (from dtreeviz) (0.19.1)\n",
      "Requirement already satisfied: pandas in /usr/local/anaconda/lib/python3.6/site-packages (from dtreeviz) (0.20.3)\n",
      "Requirement already satisfied: matplotlib in /usr/local/anaconda/lib/python3.6/site-packages (from dtreeviz) (2.2.2)\n",
      "Requirement already satisfied: numpy in /usr/local/anaconda/lib/python3.6/site-packages (from dtreeviz) (1.13.3)\n",
      "Requirement already satisfied: graphviz>=0.9 in /home/ubuntu/.local/lib/python3.6/site-packages (from dtreeviz) (0.13.2)\n",
      "Requirement already satisfied: python-dateutil>=2 in /usr/local/anaconda/lib/python3.6/site-packages (from pandas->dtreeviz) (2.7.3)\n",
      "Requirement already satisfied: pytz>=2011k in /usr/local/anaconda/lib/python3.6/site-packages (from pandas->dtreeviz) (2018.4)\n",
      "Requirement already satisfied: kiwisolver>=1.0.1 in /usr/local/anaconda/lib/python3.6/site-packages (from matplotlib->dtreeviz) (1.0.1)\n",
      "Requirement already satisfied: pyparsing!=2.0.4,!=2.1.2,!=2.1.6,>=2.0.1 in /usr/local/anaconda/lib/python3.6/site-packages (from matplotlib->dtreeviz) (2.2.0)\n",
      "Requirement already satisfied: six>=1.10 in /usr/local/anaconda/lib/python3.6/site-packages (from matplotlib->dtreeviz) (1.11.0)\n",
      "Requirement already satisfied: cycler>=0.10 in /usr/local/anaconda/lib/python3.6/site-packages (from matplotlib->dtreeviz) (0.10.0)\n",
      "Requirement already satisfied: setuptools in /usr/local/anaconda/lib/python3.6/site-packages (from kiwisolver>=1.0.1->matplotlib->dtreeviz) (39.2.0)\n",
      "\u001b[31mpyspark 2.4.0 requires py4j==0.10.7, which is not installed.\u001b[0m\n",
      "\u001b[31mmxnet-cu80 1.2.0 has requirement graphviz<0.9.0,>=0.8.1, but you'll have graphviz 0.13.2 which is incompatible.\u001b[0m\n",
      "\u001b[33mYou are using pip version 10.0.1, however version 20.0.2 is available.\n",
      "You should consider upgrading via the 'pip install --upgrade pip' command.\u001b[0m\n"
     ]
    }
   ],
   "source": [
    "! pip install dtreeviz --user"
   ]
  },
  {
   "cell_type": "markdown",
   "metadata": {},
   "source": [
    "If for any reason this way of installing doesn't work for you straight out of the box, please refer to the more detailed documentation here: https://github.com/parrt/dtreeviz"
   ]
  },
  {
   "cell_type": "markdown",
   "metadata": {},
   "source": [
    "Now you're ready to visualize your Decision Tree model! Please feel free to use the blog post for guidance and inspiration!"
   ]
  },
  {
   "cell_type": "code",
   "execution_count": 8,
   "metadata": {},
   "outputs": [
    {
     "ename": "ModuleNotFoundError",
     "evalue": "No module named 'dtreeviz'",
     "output_type": "error",
     "traceback": [
      "\u001b[0;31m---------------------------------------------------------------------------\u001b[0m",
      "\u001b[0;31mModuleNotFoundError\u001b[0m                       Traceback (most recent call last)",
      "\u001b[0;32m<ipython-input-8-75faadfb8d66>\u001b[0m in \u001b[0;36m<module>\u001b[0;34m()\u001b[0m\n\u001b[1;32m      1\u001b[0m \u001b[0;31m# Your code here! :)\u001b[0m\u001b[0;34m\u001b[0m\u001b[0;34m\u001b[0m\u001b[0m\n\u001b[0;32m----> 2\u001b[0;31m \u001b[0;32mfrom\u001b[0m \u001b[0mdtreeviz\u001b[0m\u001b[0;34m.\u001b[0m\u001b[0mtrees\u001b[0m \u001b[0;32mimport\u001b[0m \u001b[0;34m*\u001b[0m\u001b[0;34m\u001b[0m\u001b[0m\n\u001b[0m",
      "\u001b[0;31mModuleNotFoundError\u001b[0m: No module named 'dtreeviz'"
     ]
    }
   ],
   "source": [
    "# Your code here! :)\n",
    "from dtreeviz.trees import *"
   ]
  },
  {
   "cell_type": "markdown",
   "metadata": {},
   "source": [
    "## Random Forests"
   ]
  },
  {
   "cell_type": "markdown",
   "metadata": {},
   "source": [
    "As discussed in the lecture videos, Decision Tree algorithms also have certain undesireable properties. Mainly the have low bias, which is good, but tend to have high variance - which is *not* so good (more about this problem here: https://en.wikipedia.org/wiki/Bias%E2%80%93variance_tradeoff)."
   ]
  },
  {
   "cell_type": "markdown",
   "metadata": {},
   "source": [
    "Noticing these problems, the late Professor Leo Breiman, in 2001, developed the Random Forests algorithm, which mitigates these problems, while at the same time providing even higher predictive accuracy than the majority of Decision Tree algorithm implementations. While the curriculum contains two excellent lectures on Random Forests, if you're interested, you can dive into the original paper here: https://link.springer.com/content/pdf/10.1023%2FA%3A1010933404324.pdf."
   ]
  },
  {
   "cell_type": "markdown",
   "metadata": {},
   "source": [
    "In the next part of this assignment, your are going to use the same \"German Credit\" dataset to train, tune, and measure the performance of a Random Forests model. You will also see certain functionalities that this model, even though it's a bit of a \"black box\", provides for some degree of interpretability."
   ]
  },
  {
   "cell_type": "markdown",
   "metadata": {},
   "source": [
    "First, let's build a Random Forests model, using the same best practices that you've used for your Decision Trees model. You can reuse the things you've already imported there, so no need to do any re-imports, new train/test splits, or loading up the data again."
   ]
  },
  {
   "cell_type": "code",
   "execution_count": null,
   "metadata": {
    "collapsed": true
   },
   "outputs": [],
   "source": [
    "from sklearn.ensemble import RandomForestClassifier"
   ]
  },
  {
   "cell_type": "code",
   "execution_count": null,
   "metadata": {
    "collapsed": true
   },
   "outputs": [],
   "source": [
    "# Your code here! :)"
   ]
  },
  {
   "cell_type": "markdown",
   "metadata": {},
   "source": [
    "As mentioned, there are certain ways to \"peek\" into a model created by the Random Forests algorithm. The first, and most popular one, is the Feature Importance calculation functionality. This allows the ML practitioner to see an ordering of the importance of the features that have contributed the most to the predictive accuracy of the model. \n",
    "\n",
    "You can see how to use this in the scikit-learn documentation (http://scikit-learn.org/stable/modules/generated/sklearn.ensemble.RandomForestClassifier.html#sklearn.ensemble.RandomForestClassifier.feature_importances_). Now, if you tried this, you would just get an ordered table of not directly interpretable numeric values. Thus, it's much more useful to show the feature importance in a visual way. You can see an example of how that's done here: http://scikit-learn.org/stable/auto_examples/ensemble/plot_forest_importances.html#sphx-glr-auto-examples-ensemble-plot-forest-importances-py\n",
    "\n",
    "Now you try! Let's visualize the importance of features from your Random Forests model!"
   ]
  },
  {
   "cell_type": "code",
   "execution_count": null,
   "metadata": {
    "collapsed": true
   },
   "outputs": [],
   "source": [
    "# Your code here"
   ]
  },
  {
   "cell_type": "markdown",
   "metadata": {},
   "source": [
    "A final method for gaining some insight into the inner working of your Random Forests models is a so-called Partial Dependence Plot. The Partial Dependence Plot (PDP or PD plot) shows the marginal effect of a feature on the predicted outcome of a previously fit model. The prediction function is fixed at a few values of the chosen features and averaged over the other features. A partial dependence plot can show if the relationship between the target and a feature is linear, monotonic or more complex. \n",
    "\n",
    "In scikit-learn, PDPs are implemented and available for certain algorithms, but at this point (version 0.20.0) they are not yet implemented for Random Forests. Thankfully, there is an add-on package called **PDPbox** (https://pdpbox.readthedocs.io/en/latest/) which adds this functionality to Random Forests. The package is easy to install through pip."
   ]
  },
  {
   "cell_type": "code",
   "execution_count": null,
   "metadata": {
    "collapsed": true
   },
   "outputs": [],
   "source": [
    "! pip install pdpbox"
   ]
  },
  {
   "cell_type": "markdown",
   "metadata": {},
   "source": [
    "While we encourage you to read the documentation for the package (and reading package documentation in general is a good habit to develop), the authors of the package have also written an excellent blog post on how to use it, showing examples on different algorithms from scikit-learn (the Random Forests example is towards the end of the blog post): https://briangriner.github.io/Partial_Dependence_Plots_presentation-BrianGriner-PrincetonPublicLibrary-4.14.18-updated-4.22.18.html"
   ]
  },
  {
   "cell_type": "markdown",
   "metadata": {},
   "source": [
    "So, armed with this new knowledge, feel free to pick a few features, and make a couple of Partial Dependence Plots of your own!"
   ]
  },
  {
   "cell_type": "code",
   "execution_count": null,
   "metadata": {
    "collapsed": true
   },
   "outputs": [],
   "source": [
    "# Your code here!"
   ]
  },
  {
   "cell_type": "markdown",
   "metadata": {},
   "source": [
    "## (Optional) Advanced Boosting-Based Algorithms"
   ]
  },
  {
   "cell_type": "markdown",
   "metadata": {},
   "source": [
    "As explained in the video lectures, the next generation of algorithms after Random Forests (that use Bagging, a.k.a. Bootstrap Aggregation) were developed using Boosting, and the first one of these were Gradient Boosted Machines, which are implemented in scikit-learn (http://scikit-learn.org/stable/modules/ensemble.html#gradient-tree-boosting)."
   ]
  },
  {
   "cell_type": "markdown",
   "metadata": {},
   "source": [
    "Still, in recent years, a number of variations on GBMs have been developed by different research amd industry groups, all of them bringing improvements, both in speed, accuracy and functionality to the original Gradient Boosting algorithms.\n",
    "\n",
    "In no order of preference, these are:\n",
    "1. **XGBoost**: https://xgboost.readthedocs.io/en/latest/\n",
    "2. **CatBoost**: https://tech.yandex.com/catboost/\n",
    "3. **LightGBM**: https://lightgbm.readthedocs.io/en/latest/"
   ]
  },
  {
   "cell_type": "markdown",
   "metadata": {},
   "source": [
    "If you're using the Anaconda distribution, these are all very easy to install:"
   ]
  },
  {
   "cell_type": "code",
   "execution_count": null,
   "metadata": {
    "collapsed": true
   },
   "outputs": [],
   "source": [
    "! conda install -c anaconda py-xgboost"
   ]
  },
  {
   "cell_type": "code",
   "execution_count": null,
   "metadata": {
    "collapsed": true
   },
   "outputs": [],
   "source": [
    "! conda install -c conda-forge catboost"
   ]
  },
  {
   "cell_type": "code",
   "execution_count": null,
   "metadata": {
    "collapsed": true
   },
   "outputs": [],
   "source": [
    "! conda install -c conda-forge lightgbm"
   ]
  },
  {
   "cell_type": "markdown",
   "metadata": {},
   "source": [
    "Your task in this optional section of the mini project is to read the documentation of these three libraries, and apply all of them to the \"German Credit\" dataset, just like you did in the case of Decision Trees and Random Forests."
   ]
  },
  {
   "cell_type": "markdown",
   "metadata": {},
   "source": [
    "The final deliverable of this section should be a table (can be a pandas DataFrame) which shows the accuracy of all the five algorthms taught in this mini project in one place."
   ]
  },
  {
   "cell_type": "markdown",
   "metadata": {},
   "source": [
    "Happy modeling! :)"
   ]
  },
  {
   "cell_type": "code",
   "execution_count": null,
   "metadata": {
    "collapsed": true
   },
   "outputs": [],
   "source": []
  }
 ],
 "metadata": {
  "kernelspec": {
   "display_name": "Python 3",
   "language": "python",
   "name": "python3"
  },
  "language_info": {
   "codemirror_mode": {
    "name": "ipython",
    "version": 3
   },
   "file_extension": ".py",
   "mimetype": "text/x-python",
   "name": "python",
   "nbconvert_exporter": "python",
   "pygments_lexer": "ipython3",
   "version": "3.6.2"
  }
 },
 "nbformat": 4,
 "nbformat_minor": 2
}
